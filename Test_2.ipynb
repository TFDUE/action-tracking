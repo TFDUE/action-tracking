{
 "cells": [
  {
   "cell_type": "code",
   "execution_count": 52,
   "metadata": {
    "hide_input": true
   },
   "outputs": [
    {
     "data": {
      "text/html": [
       "<style>/* Style des gesamten Dokuments */\n",
       "#notebook-container {\n",
       "\tfont-family: \"NimbusMonL-ReguObli\";\n",
       "\tfont-size: 120%\n",
       "}\n",
       "\n",
       "/* Style für die Überschrift: Zentriert diese und stellt sie fett dar. */\n",
       ".headline {\n",
       "\ttext-align: center;\n",
       "\tfont-weight: bold;\n",
       "\tfont-size: 185.7%\n",
       "}\n",
       "\n",
       "/* Style für die Aufgabenbeschreibung. Z.B.: \"Übung zum Thema...\" */\n",
       ".description {\n",
       "\ttext-align: center;\n",
       "\tfont-size: 145.7%\n",
       "}\n",
       "\n",
       "/* Hebt das Abgabedatum fett und kursiv hervor */\n",
       "#submission {\n",
       "\tfont-weight: bold;\n",
       "}\n",
       "\n",
       "/* Style für das eigentliche Thema. Z.B.: \"Intelligenz\" */\n",
       "#topic {\n",
       "\tfont-style: italic;\n",
       "}\n",
       "\n",
       ".task_description {\n",
       "\n",
       "}\n",
       "\n",
       "/* Hebt die Aufgabennummerierung fett hervor. */\n",
       ".task {\n",
       "\tfont-style: normal;\n",
       "\tfont-weight: bold;\n",
       "}\n",
       "\n",
       ".points {\n",
       "\tfont-style: italic;\n",
       "}\n",
       "\n",
       "/* Style einer Code-Cell */\n",
       ".CodeMirror-code {\n",
       "\tbackground-color: #ededed\n",
       "}\n",
       "\n",
       "/* Style eines Kommentars im Code ändern. */\n",
       ".cm-s-ipython span.cm-comment {\n",
       "\n",
       "}\n",
       "\n",
       ".cm-s-ipython span.cm-atom {\n",
       "\n",
       "}\n",
       "\n",
       ".cm-s-ipython span.cm-number {\n",
       "\n",
       "}\n",
       "\n",
       "/* Style eines Python-Keywords ändern */\n",
       ".cm-s-ipython span.cm-keyword {\n",
       "\tcolor: #B000B0\n",
       "}\n",
       "\n",
       ".cm-s-ipython span.cm-def {\n",
       "\n",
       "}\n",
       "\n",
       "/* Style einer Python-Variable ändern */\n",
       ".cm-s-ipython span.cm-variable {\n",
       "\t\n",
       "}\n",
       "\n",
       "/* Style einer Property ändern */\n",
       ".cm-s-ipython span.cm-property {\n",
       "\t\n",
       "}\n",
       "\n",
       "/* Style eines Python-Operators ändern */\n",
       ".cm-s-ipython span.cm-operator {\n",
       "\t\n",
       "}\n",
       "\n",
       "/* Style eines Python-Strings ändern */\n",
       ".cm-s-ipython span.cm-string {\n",
       "\tcolor: brown;\n",
       "}\n",
       "\n",
       "/* Style einer eingebauten Funktion ändern (z.B. \"open\") */\n",
       ".cm-s-ipython span.cm-builtin {\n",
       "\t\n",
       "}\n",
       "\n",
       "/* Hebt hervor, welche Klammern zueinander passen */\n",
       ".cm-s-ipython .CodeMirror-matchingbracket {\n",
       "\t\n",
       "}\n",
       "\n",
       ".cm-s-ipython span.cm-variable-2 {\n",
       "\n",
       "}</style>"
      ],
      "text/plain": [
       "<IPython.core.display.HTML object>"
      ]
     },
     "execution_count": 52,
     "metadata": {},
     "output_type": "execute_result"
    }
   ],
   "source": [
    "from IPython.core.display import HTML\n",
    "\n",
    "HTML(\"<style>\" + open(\"style.css\").read() + \"</style>\")"
   ]
  },
  {
   "cell_type": "markdown",
   "metadata": {},
   "source": [
    "# Simple sequences"
   ]
  },
  {
   "cell_type": "markdown",
   "metadata": {},
   "source": [
    "A simple sequence of instructions is the most basic program you can write.\n",
    "The simplest sequence is one containing a single command.\n",
    "We will try out some of these now."
   ]
  },
  {
   "cell_type": "code",
   "execution_count": 36,
   "metadata": {},
   "outputs": [
    {
     "name": "stdout",
     "output_type": "stream",
     "text": [
      "Hello there!\n"
     ]
    }
   ],
   "source": [
    "print('Hello there!')"
   ]
  },
  {
   "cell_type": "markdown",
   "metadata": {},
   "source": [
    "## Arithmetic Operators"
   ]
  },
  {
   "cell_type": "markdown",
   "metadata": {},
   "source": [
    "It's not just strings that can be printed:"
   ]
  },
  {
   "cell_type": "code",
   "execution_count": 37,
   "metadata": {},
   "outputs": [
    {
     "name": "stdout",
     "output_type": "stream",
     "text": [
      "11\n"
     ]
    }
   ],
   "source": [
    "print(6 + 5)"
   ]
  },
  {
   "cell_type": "markdown",
   "metadata": {},
   "source": [
    "Use some other arithmetic operators:\n",
    "* sum (+)\n",
    "* subtract (-)\n",
    "* multiply (*)\n",
    "* divide (/) <br>\n",
    "\n",
    "\n",
    "Combine multiple expressions like:"
   ]
  },
  {
   "cell_type": "code",
   "execution_count": 38,
   "metadata": {},
   "outputs": [
    {
     "name": "stdout",
     "output_type": "stream",
     "text": [
      "6.0\n"
     ]
    }
   ],
   "source": [
    "print(((8 * 4) + (7 - 3)) / (2 + 4))"
   ]
  },
  {
   "cell_type": "markdown",
   "metadata": {},
   "source": [
    "Experiment and you will soon get the idea (note: ’,’ separates elements in a print statement):"
   ]
  },
  {
   "cell_type": "code",
   "execution_count": 39,
   "metadata": {},
   "outputs": [
    {
     "name": "stdout",
     "output_type": "stream",
     "text": [
      "The total is:  68\n"
     ]
    }
   ],
   "source": [
    "print('The total is: ', 23 + 45)"
   ]
  },
  {
   "cell_type": "markdown",
   "metadata": {},
   "source": [
    "Take a few minutes to try it out (try to sum up two strings, multiply some strings with numbers)."
   ]
  },
  {
   "cell_type": "code",
   "execution_count": 40,
   "metadata": {},
   "outputs": [
    {
     "name": "stdout",
     "output_type": "stream",
     "text": [
      "sum of 34 and 56 is  90\n",
      "99 - 100 =  -1\n",
      "abcabcabcabcabc\n",
      "UniDuE\n",
      "Uni DuE\n",
      "Uni DuE Uni DuE Uni DuE \n"
     ]
    }
   ],
   "source": [
    "print('sum of 34 and 56 is ', 34 + 56)\n",
    "print('99 - 100 = ', 99 - 100)\n",
    "print(5 * 'abc')\n",
    "print('Uni' + 'DuE')\n",
    "print('Uni ' + 'DuE')\n",
    "print(3 * ('Uni ' + 'DuE '))"
   ]
  },
  {
   "cell_type": "markdown",
   "metadata": {},
   "source": [
    "## Variables\n",
    "In programming terms we can create instances of data types and assign them to variables.\n",
    "A variable is a reference to a specific area somewhere in the computers memory. These areas hold the data.\n",
    "e.g."
   ]
  },
  {
   "cell_type": "code",
   "execution_count": 53,
   "metadata": {},
   "outputs": [
    {
     "name": "stdout",
     "output_type": "stream",
     "text": [
      "I study in Duisburg\n",
      "I study in Duisburg\n"
     ]
    }
   ],
   "source": [
    "town = 'Duisburg'\n",
    "print('I study in', town)\n",
    "print(\"I study in \" + town)"
   ]
  },
  {
   "cell_type": "markdown",
   "metadata": {},
   "source": [
    "In Python a variable takes the type of the data assigned to it. It will keep that type and you will be warned if you try to mix data in strange ways - like trying to add a string to a number. We can change the type of data that a variable points to by reassigning the variable."
   ]
  },
  {
   "cell_type": "code",
   "execution_count": 57,
   "metadata": {},
   "outputs": [
    {
     "name": "stdout",
     "output_type": "stream",
     "text": [
      "7\n",
      "14\n",
      "Seven\n",
      "SevenSeven\n"
     ]
    }
   ],
   "source": [
    "q = 7\n",
    "# q is now a number\n",
    "print(q)\n",
    "print(q + q)\n",
    "\n",
    "q = \"Seven\"\n",
    "# reassign q to a string\n",
    "print(q)\n",
    "print(q + q)"
   ]
  },
  {
   "cell_type": "markdown",
   "metadata": {},
   "source": [
    "## Comparison Operators\n",
    "Assume variable a holds 10 and variable b holds 20 then:"
   ]
  },
  {
   "cell_type": "markdown",
   "metadata": {},
   "source": [
    "| Operator | Description | Example         \n",
    "|:-|:------------- | :-----------------\n",
    "|==|Checks if the value of two operands are equal or not, if yes then condition becomes true.|(a == b) is not true.\n",
    "|!=|Checks if the value of two operands are equal or not, if values are not equal then condition becomes true.|(a != b) is true.\n",
    "|<>|Checks if the value of two operands are equal or not, if values are not equal then condition becomes true.|(a <> b) is true. This is similar to != operator.\n",
    "|/>|Checks if the value of left operand is greater than the value of right operand, if yes then condition becomes true.|(a > b) is not true.\n",
    "|<|Checks if the value of left operand is less than the value of right operand, if yes then condition becomes true.|(a < b) is true.\n",
    "|/>=|Checks if the value of two operands are equal or not, if values are not equal then condition becomes true.|(a >= b) is not true.\n",
    "|<=|Checks if the value of left operand is less than or equal to the value of right operand, if yes then condition becomes true.|(a <= b) is true."
   ]
  },
  {
   "cell_type": "markdown",
   "metadata": {},
   "source": [
    "Take a few minutes to try it out (e.g. ```me = ’your name’```). Use already learned operators."
   ]
  },
  {
   "cell_type": "code",
   "execution_count": 44,
   "metadata": {},
   "outputs": [
    {
     "name": "stdout",
     "output_type": "stream",
     "text": [
      "Otto Normalverbaucher\n"
     ]
    }
   ],
   "source": [
    "me = 'Otto'\n",
    "last_name = 'Normalverbaucher'\n",
    "print (me + \" \" + last_name)"
   ]
  },
  {
   "cell_type": "code",
   "execution_count": 45,
   "metadata": {},
   "outputs": [
    {
     "name": "stdout",
     "output_type": "stream",
     "text": [
      "I am 20\n"
     ]
    }
   ],
   "source": [
    "me = 20\n",
    "print ('I am', me)"
   ]
  },
  {
   "cell_type": "code",
   "execution_count": 46,
   "metadata": {},
   "outputs": [
    {
     "name": "stdout",
     "output_type": "stream",
     "text": [
      "True\n"
     ]
    }
   ],
   "source": [
    "word1 = 'one'\n",
    "word2 = 'two'\n",
    "print (word1 != word2)"
   ]
  },
  {
   "cell_type": "code",
   "execution_count": 47,
   "metadata": {},
   "outputs": [
    {
     "name": "stdout",
     "output_type": "stream",
     "text": [
      "False\n"
     ]
    }
   ],
   "source": [
    "x = 47\n",
    "y = 53\n",
    "print (x >= y)"
   ]
  },
  {
   "cell_type": "markdown",
   "metadata": {},
   "source": [
    "## Slice Operator\n",
    "Subsets of strings can be taken using the slice operator (```[x]``` and ```[x:y]``` ) with indexes starting at 0 in the beginning of the string and working their way from -1 at the end. For example:\n",
    "</div>"
   ]
  },
  {
   "cell_type": "code",
   "execution_count": 58,
   "metadata": {},
   "outputs": [
    {
     "name": "stdout",
     "output_type": "stream",
     "text": [
      "Hello World!\n",
      "H\n",
      "llo\n",
      "llo World!\n"
     ]
    }
   ],
   "source": [
    "str = 'Hello World!'\n",
    "print (str)\n",
    "# Prints complete string\n",
    "\n",
    "print (str[0])\n",
    "# Prints first character of the string\n",
    "\n",
    "print (str[2:5])\n",
    "# Prints characters starting from 3rd to 6th\n",
    "\n",
    "print (str[2:])\n",
    "# Prints string starting from 3rd character"
   ]
  },
  {
   "cell_type": "markdown",
   "metadata": {},
   "source": [
    "<div class=\"task_description\">\n",
    "    <i class=\"task\">Task I.1:</i>\n",
    "\n",
    "Solve the tasks below:<br>\n",
    "1. Write your first name, last name, then your complete name (using the already existing variables for the latter) and then print out your complete name 20 times. Use the operators you got to know.\n",
    "</div>"
   ]
  },
  {
   "cell_type": "code",
   "execution_count": 49,
   "metadata": {},
   "outputs": [
    {
     "name": "stdout",
     "output_type": "stream",
     "text": [
      "Erika MustermannErika MustermannErika MustermannErika MustermannErika MustermannErika MustermannErika MustermannErika MustermannErika MustermannErika MustermannErika MustermannErika MustermannErika MustermannErika MustermannErika MustermannErika MustermannErika MustermannErika MustermannErika MustermannErika Mustermann\n"
     ]
    }
   ],
   "source": [
    "# for example\n",
    "first_name = 'Erika'\n",
    "last_name = 'Mustermann'\n",
    "complete_name = first_name + \" \" + last_name\n",
    "print (20*complete_name)"
   ]
  },
  {
   "cell_type": "markdown",
   "metadata": {},
   "source": [
    "2. Calculate for how long you have lived (in days) since your birth date (assuming one year has 365 days and one month has 31 days)."
   ]
  },
  {
   "cell_type": "code",
   "execution_count": 50,
   "metadata": {},
   "outputs": [
    {
     "name": "stdout",
     "output_type": "stream",
     "text": [
      "14345\n"
     ]
    }
   ],
   "source": [
    "# for example the date of birth is 01.01.1980 and today is 18.04.2019\n",
    "days = (2019 - 1980)*365 + (4 - 1)*31 + (18 - 1)\n",
    "print (days)"
   ]
  },
  {
   "cell_type": "markdown",
   "metadata": {},
   "source": [
    "3. Let b be 27 and c 49. Show in Python that b is less than c."
   ]
  },
  {
   "cell_type": "markdown",
   "metadata": {},
   "source": [
    "# List Comprehension"
   ]
  },
  {
   "cell_type": "markdown",
   "metadata": {},
   "source": [
    "Lists are what they seem - a list of values. Each one of them is numbered, starting from zero - the first one\n",
    "is numbered zero, the second 1, the third 2, etc. You can remove values from the list, and add new values to the end.<br>\n",
    "\n",
    "Example: "
   ]
  },
  {
   "cell_type": "code",
   "execution_count": 27,
   "metadata": {},
   "outputs": [],
   "source": [
    "names = [\"Otto\", \"Erika\", \"Max\", \"Julia\", \"Paul\"]"
   ]
  },
  {
   "cell_type": "markdown",
   "metadata": {},
   "source": [
    "You recall values from lists like you do with strings. "
   ]
  },
  {
   "cell_type": "code",
   "execution_count": 28,
   "metadata": {},
   "outputs": [
    {
     "name": "stdout",
     "output_type": "stream",
     "text": [
      "Max\n",
      "['Otto', 'Erika']\n"
     ]
    }
   ],
   "source": [
    "# print name of 3rd person\n",
    "print(names[2])\n",
    "\n",
    "# print 1st and 2nd name\n",
    "# this is called splicing an array\n",
    "print(names[0:2])"
   ]
  },
  {
   "cell_type": "markdown",
   "metadata": {},
   "source": [
    "To add a value to a list, you use the ```append()``` function. To add \"Heinz\" to the list you would do this:"
   ]
  },
  {
   "cell_type": "code",
   "execution_count": 29,
   "metadata": {},
   "outputs": [
    {
     "name": "stdout",
     "output_type": "stream",
     "text": [
      "['Otto', 'Erika', 'Max', 'Julia', 'Paul', 'Heinz']\n"
     ]
    }
   ],
   "source": [
    "names.append(\"Heinz\")\n",
    "print(names)"
   ]
  },
  {
   "cell_type": "markdown",
   "metadata": {},
   "source": [
    "To remove a value from a list, you would do this:"
   ]
  },
  {
   "cell_type": "code",
   "execution_count": 30,
   "metadata": {},
   "outputs": [
    {
     "name": "stdout",
     "output_type": "stream",
     "text": [
      "['Otto', 'Max', 'Julia', 'Paul', 'Heinz']\n"
     ]
    }
   ],
   "source": [
    "del names[1]\n",
    "#deletes the 2nd name\n",
    "print(names)"
   ]
  },
  {
   "cell_type": "markdown",
   "metadata": {},
   "source": [
    "Let there be another list which contains last names. To concatenate the two lists you would do this:"
   ]
  },
  {
   "cell_type": "code",
   "execution_count": 31,
   "metadata": {},
   "outputs": [
    {
     "name": "stdout",
     "output_type": "stream",
     "text": [
      "['Otto', 'Max', 'Julia', 'Paul', 'Heinz', 'Normalverbraucher', 'Mustermann', 'Schulz', 'Müller', 'Schmidt']\n"
     ]
    }
   ],
   "source": [
    "lastnames = [\"Normalverbraucher\", \"Mustermann\", \"Schulz\", \"Müller\", \"Schmidt\"]\n",
    "print(names + lastnames)"
   ]
  },
  {
   "cell_type": "markdown",
   "metadata": {},
   "source": [
    "Finally, we can determine the length of a list by using the built-in ```len()``` function:"
   ]
  },
  {
   "cell_type": "code",
   "execution_count": 32,
   "metadata": {
    "scrolled": true
   },
   "outputs": [
    {
     "name": "stdout",
     "output_type": "stream",
     "text": [
      "5\n"
     ]
    }
   ],
   "source": [
    "print(len(names))"
   ]
  },
  {
   "cell_type": "markdown",
   "metadata": {},
   "source": [
    "# Branches and Loops\n",
    "\n",
    "Gives you more control over your programs."
   ]
  },
  {
   "cell_type": "markdown",
   "metadata": {},
   "source": [
    "## The 'if' statement"
   ]
  },
  {
   "cell_type": "markdown",
   "metadata": {},
   "source": [
    "The syntax of the if...elif statement is:\n",
    "````py\n",
    "if expression1:\n",
    "    statement(s)\n",
    "elif expression2:\n",
    "    statement(s)\n",
    "elif expression3:\n",
    "    statement(s)\n",
    "else:\n",
    "    statement(s)\n",
    "````"
   ]
  },
  {
   "cell_type": "markdown",
   "metadata": {},
   "source": [
    "However the else and elif (else + ’new’ if) parts are optional.<br>\n",
    "Example:"
   ]
  },
  {
   "cell_type": "code",
   "execution_count": 33,
   "metadata": {},
   "outputs": [
    {
     "name": "stdout",
     "output_type": "stream",
     "text": [
      "highway\n"
     ]
    }
   ],
   "source": [
    "little_traffic = True\n",
    "if (little_traffic):\n",
    "    print ('highway')\n",
    "else:\n",
    "    print ('federal and country roads')"
   ]
  },
  {
   "cell_type": "markdown",
   "metadata": {},
   "source": [
    "## The ’while’ loop \n",
    "The while loop is one of the looping constructs available in Python. It continues until the expression becomes false. This expression has to be a logical expression and must return either a 'True' or a 'False' value.<br>\n",
    "The syntax of the while loop is:"
   ]
  },
  {
   "cell_type": "markdown",
   "metadata": {},
   "source": [
    "```py\n",
    "while expression:\n",
    "    statement(s)\n",
    "```"
   ]
  },
  {
   "cell_type": "markdown",
   "metadata": {},
   "source": [
    "Example:"
   ]
  },
  {
   "cell_type": "code",
   "execution_count": 34,
   "metadata": {},
   "outputs": [
    {
     "name": "stdout",
     "output_type": "stream",
     "text": [
      "The count is: 0\n",
      "The count is: 1\n",
      "The count is: 2\n",
      "The count is: 3\n",
      "The count is: 4\n",
      "The count is: 5\n",
      "The count is: 6\n",
      "The count is: 7\n",
      "The count is: 8\n"
     ]
    }
   ],
   "source": [
    "count = 0\n",
    "while (count < 9):\n",
    "    print ('The count is:', count)\n",
    "    count = count + 1"
   ]
  },
  {
   "cell_type": "markdown",
   "metadata": {},
   "source": [
    "The block here, consisting of the print and increment statements, is executed repeatedly until the count is less than 9. With each iteration, the current value of the index count is displayed and then increased by 1."
   ]
  },
  {
   "cell_type": "markdown",
   "metadata": {},
   "source": [
    "## The ’for’ loop \n",
    "The for loop in Python has the ability to iterate over the items of any sequence, such as a list or a\n",
    "string. The syntax of the loop look is:"
   ]
  },
  {
   "cell_type": "markdown",
   "metadata": {},
   "source": [
    "````py\n",
    "for item in list:\n",
    "    statements(s)\n",
    "````"
   ]
  },
  {
   "cell_type": "markdown",
   "metadata": {},
   "source": [
    "If a sequence contains an expression list, it is evaluated first. Then, the first item in the sequence is assigned to the iterating variable 'item'. Next, the statements block is executed. Each item in the list is assigned to 'item',\n",
    "and the statements(s) block is executed until the entire sequence is exhausted. <br>\n",
    "Example:"
   ]
  },
  {
   "cell_type": "code",
   "execution_count": 35,
   "metadata": {},
   "outputs": [
    {
     "name": "stdout",
     "output_type": "stream",
     "text": [
      "Current Letter : P\n",
      "Current Letter : y\n",
      "Current Letter : t\n",
      "Current Letter : h\n",
      "Current Letter : o\n",
      "Current Letter : n\n",
      "Current fruit : banana\n",
      "Current fruit : apple\n",
      "Current fruit : mango\n"
     ]
    }
   ],
   "source": [
    "# First Example\n",
    "for letter in 'Python': \n",
    "    print ('Current Letter :', letter)\n",
    "\n",
    "# Second Example\n",
    "fruits = ['banana', 'apple', 'mango']\n",
    "for fruit in fruits: \n",
    "    print ('Current fruit :', fruit)"
   ]
  },
  {
   "cell_type": "markdown",
   "metadata": {},
   "source": [
    "## Combination of loops and branches"
   ]
  },
  {
   "cell_type": "markdown",
   "metadata": {},
   "source": [
    "General Syntax:\n",
    "```py\n",
    "[ expression for item in list if conditional ]\n",
    "```\n",
    "equivalent to\n",
    "```py\n",
    "for item in list:\n",
    "    if conditional:\n",
    "        expression\n",
    "```"
   ]
  },
  {
   "cell_type": "markdown",
   "metadata": {},
   "source": [
    "Below you can see further examples, starting with a simple iteration over a number. We can only  iterate over sets, so we need the range() function."
   ]
  },
  {
   "cell_type": "code",
   "execution_count": 36,
   "metadata": {},
   "outputs": [
    {
     "data": {
      "text/plain": [
       "[0, 1, 2, 3, 4, 5, 6, 7, 8, 9]"
      ]
     },
     "execution_count": 36,
     "metadata": {},
     "output_type": "execute_result"
    }
   ],
   "source": [
    "[i for i in range(10)]"
   ]
  },
  {
   "cell_type": "markdown",
   "metadata": {},
   "source": [
    "Use a condition to filter to even numbers."
   ]
  },
  {
   "cell_type": "code",
   "execution_count": 37,
   "metadata": {},
   "outputs": [
    {
     "data": {
      "text/plain": [
       "[0, 2, 4, 6, 8]"
      ]
     },
     "execution_count": 37,
     "metadata": {},
     "output_type": "execute_result"
    }
   ],
   "source": [
    "[i for i in range(10) if i % 2 == 0]"
   ]
  },
  {
   "cell_type": "markdown",
   "metadata": {},
   "source": [
    "You can also modify the result of the iteration."
   ]
  },
  {
   "cell_type": "code",
   "execution_count": 38,
   "metadata": {},
   "outputs": [
    {
     "data": {
      "text/plain": [
       "[0, 1, 4, 9, 16, 25, 36, 49, 64, 81]"
      ]
     },
     "execution_count": 38,
     "metadata": {},
     "output_type": "execute_result"
    }
   ],
   "source": [
    "[i**2 for i in range(10)]"
   ]
  },
  {
   "cell_type": "markdown",
   "metadata": {},
   "source": [
    "Working with strings:"
   ]
  },
  {
   "cell_type": "code",
   "execution_count": 39,
   "metadata": {},
   "outputs": [
    {
     "name": "stdout",
     "output_type": "stream",
     "text": [
      "['This', 'is', 'an', 'example']\n"
     ]
    }
   ],
   "source": [
    "words = \"This is an example\".split()\n",
    "print(words)"
   ]
  },
  {
   "cell_type": "markdown",
   "metadata": {},
   "source": [
    "A string can be accessed like a list."
   ]
  },
  {
   "cell_type": "code",
   "execution_count": 40,
   "metadata": {},
   "outputs": [
    {
     "data": {
      "text/plain": [
       "['T', 'i', 'a', 'e']"
      ]
     },
     "execution_count": 40,
     "metadata": {},
     "output_type": "execute_result"
    }
   ],
   "source": [
    "[word[0] for word in words]"
   ]
  },
  {
   "cell_type": "markdown",
   "metadata": {},
   "source": [
    "We can modify each of the resulting elements..."
   ]
  },
  {
   "cell_type": "code",
   "execution_count": 41,
   "metadata": {},
   "outputs": [
    {
     "data": {
      "text/plain": [
       "['THIS', 'IS', 'AN', 'EXAMPLE']"
      ]
     },
     "execution_count": 41,
     "metadata": {},
     "output_type": "execute_result"
    }
   ],
   "source": [
    "[word.upper() for word in words]"
   ]
  },
  {
   "cell_type": "markdown",
   "metadata": {},
   "source": [
    "...or use a function on each element"
   ]
  },
  {
   "cell_type": "code",
   "execution_count": 42,
   "metadata": {},
   "outputs": [
    {
     "data": {
      "text/plain": [
       "[4, 2, 2, 7]"
      ]
     },
     "execution_count": 42,
     "metadata": {},
     "output_type": "execute_result"
    }
   ],
   "source": [
    "[len(token) for token in words]"
   ]
  },
  {
   "cell_type": "markdown",
   "metadata": {},
   "source": [
    "Another example for using conditions/filters:"
   ]
  },
  {
   "cell_type": "code",
   "execution_count": 43,
   "metadata": {
    "scrolled": true
   },
   "outputs": [
    {
     "data": {
      "text/plain": [
       "['is', 'an']"
      ]
     },
     "execution_count": 43,
     "metadata": {},
     "output_type": "execute_result"
    }
   ],
   "source": [
    "[word for word in words if len(word) < 4]"
   ]
  },
  {
   "cell_type": "markdown",
   "metadata": {},
   "source": [
    "<div class=\"task_description\">\n",
    "    <i class=\"task\">Task II.1:</i><br>\n",
    "Create a list with the following elements (in brackets is given the data type):\n",
    "</div>\n",
    "\n",
    "\n",
    "123(integer), me(string), 42(integer), like(string) easy(string), Python(string), 21.0(real number), twenty(string)\n"
   ]
  },
  {
   "cell_type": "markdown",
   "metadata": {},
   "source": [
    "1. Print out the complete list"
   ]
  },
  {
   "cell_type": "code",
   "execution_count": 44,
   "metadata": {},
   "outputs": [
    {
     "name": "stdout",
     "output_type": "stream",
     "text": [
      "[123, 'me', 42, 'like', 'easy', 'Python', 21.0, 'twenty']\n"
     ]
    }
   ],
   "source": [
    "list = [123, 'me', 42, 'like', 'easy', 'Python', 21.0, 'twenty']\n",
    "print (list)"
   ]
  },
  {
   "cell_type": "markdown",
   "metadata": {},
   "source": [
    "2. Print out elements starting from 3rd to 6th"
   ]
  },
  {
   "cell_type": "code",
   "execution_count": 45,
   "metadata": {},
   "outputs": [
    {
     "name": "stdout",
     "output_type": "stream",
     "text": [
      "[42, 'like', 'easy', 'Python']\n"
     ]
    }
   ],
   "source": [
    "print (list[2:6])"
   ]
  },
  {
   "cell_type": "markdown",
   "metadata": {},
   "source": [
    "3. Add to the list elements: quickly(string) and 12.1(real number). Print out the last three elements. Use the function 'len()' for the latter."
   ]
  },
  {
   "cell_type": "code",
   "execution_count": 46,
   "metadata": {},
   "outputs": [
    {
     "name": "stdout",
     "output_type": "stream",
     "text": [
      "['twenty', 'quickly', 12.1]\n"
     ]
    }
   ],
   "source": [
    "list.append('quickly')\n",
    "list.append(12.1)\n",
    "print (list[len(list)-3:len(list)])"
   ]
  },
  {
   "cell_type": "markdown",
   "metadata": {},
   "source": [
    "4. Delete the fifth element of this list and print out the length of the double list."
   ]
  },
  {
   "cell_type": "code",
   "execution_count": 47,
   "metadata": {},
   "outputs": [
    {
     "name": "stdout",
     "output_type": "stream",
     "text": [
      "18\n"
     ]
    }
   ],
   "source": [
    "del list[4]\n",
    "print (len(2 * list))"
   ]
  },
  {
   "cell_type": "markdown",
   "metadata": {},
   "source": [
    "<div class=\"task_description\">\n",
    "    <i class=\"task\">Task II.2:</i><br>\n",
    "</div>\n"
   ]
  },
  {
   "cell_type": "markdown",
   "metadata": {},
   "source": [
    "1. Iterate over all elements of the list, which consist  of the following elements: 25, ’Berlin’, ’large’, 575.2, ’mango’, ’Snappy’ and print out all these elements."
   ]
  },
  {
   "cell_type": "code",
   "execution_count": 48,
   "metadata": {},
   "outputs": [
    {
     "name": "stdout",
     "output_type": "stream",
     "text": [
      "25\n",
      "Berlin\n",
      "large\n",
      "575.2\n",
      "mango\n",
      "Snappy\n"
     ]
    }
   ],
   "source": [
    "list = [25, 'Berlin', 'large', 575.2, 'mango', 'Snappy']\n",
    "for element in list:\n",
    "    print (element)"
   ]
  },
  {
   "cell_type": "markdown",
   "metadata": {},
   "source": [
    "2. Print out all even numbers numbers from 0(inclusively) to 14(exclusively)."
   ]
  },
  {
   "cell_type": "code",
   "execution_count": 49,
   "metadata": {},
   "outputs": [
    {
     "name": "stdout",
     "output_type": "stream",
     "text": [
      "0\n",
      "2\n",
      "4\n",
      "6\n",
      "8\n",
      "10\n",
      "12\n"
     ]
    }
   ],
   "source": [
    "counter = 0\n",
    "while counter < 14:\n",
    "    print(counter)\n",
    "    counter = counter + 2"
   ]
  },
  {
   "cell_type": "markdown",
   "metadata": {},
   "source": [
    "3. Given two integer numbers b and c find the maximum of these two numbers and print the name of the maximum. In case b equals c print ’b and c are equal’. You can test your program with following data:\n",
    "\n",
    "    1. b = 6, c = 9\n",
    "    2. b = 4, c = 4\n",
    "    3. b= 23, c = 2"
   ]
  },
  {
   "cell_type": "code",
   "execution_count": 50,
   "metadata": {},
   "outputs": [
    {
     "name": "stdout",
     "output_type": "stream",
     "text": [
      "c is the maximum\n"
     ]
    }
   ],
   "source": [
    "b = 6\n",
    "c = 9\n",
    "if b < c:\n",
    "    print ('c is the maximum')\n",
    "elif b == c:\n",
    "    print ('b and c are equal')\n",
    "else:\n",
    "    print ('b is the maximum')"
   ]
  },
  {
   "cell_type": "markdown",
   "metadata": {},
   "source": [
    "4. Create a list name_lastname so that each name from earlier on is followed by the corresponding last name. You want your solution to be: <br>\n",
    "```['Otto', 'Normalverbraucher', 'Max', 'Mustermann', 'Julia', 'Schulz', 'Paul', 'Müller', 'Heinz', 'Schmidt']```"
   ]
  },
  {
   "cell_type": "code",
   "execution_count": 60,
   "metadata": {},
   "outputs": [
    {
     "name": "stdout",
     "output_type": "stream",
     "text": [
      "['Otto', 'Normalverbraucher', 'Max', 'Mustermann', 'Julia', 'Schulz', 'Paul', 'Müller', 'Heinz', 'Schmidt']\n"
     ]
    }
   ],
   "source": [
    "names=[\"Otto\", \"Max\", \"Julia\", \"Paul\", \"Heinz\"]\n",
    "lastnames=[\"Normalverbraucher\", \"Mustermann\", \"Schulz\", \"Müller\", \"Schmidt\"]\n",
    "name_lastname=[]\n",
    "i=0\n",
    "for name in names:\n",
    "    name_lastname.append(names[i])\n",
    "    name_lastname.append(lastnames[i])\n",
    "    i+=1\n",
    "print(name_lastname)"
   ]
  },
  {
   "cell_type": "markdown",
   "metadata": {},
   "source": [
    "Alternatively, use the ```zip()``` method, but note that it yields a slightly different result (maybe even more useful):"
   ]
  },
  {
   "cell_type": "code",
   "execution_count": 70,
   "metadata": {},
   "outputs": [
    {
     "data": {
      "text/plain": [
       "[('Otto', 'Normalverbraucher'),\n",
       " ('Max', 'Mustermann'),\n",
       " ('Julia', 'Schulz'),\n",
       " ('Paul', 'Müller'),\n",
       " ('Heinz', 'Schmidt')]"
      ]
     },
     "execution_count": 70,
     "metadata": {},
     "output_type": "execute_result"
    }
   ],
   "source": [
    "[elem for elem in zip(names, lastnames)]"
   ]
  },
  {
   "cell_type": "markdown",
   "metadata": {},
   "source": [
    "<div class=\"task_description\">\n",
    "    <i class=\"task\">Task II.3:</i><br>\n",
    "Consider the following text: \"Today it’s nice weather. Is it not nice today :-) ?\"\n",
    "Print the following information of the given text:\n",
    "</div>\n"
   ]
  },
  {
   "cell_type": "markdown",
   "metadata": {},
   "source": [
    "1. What is the length of this text?"
   ]
  },
  {
   "cell_type": "code",
   "execution_count": 71,
   "metadata": {},
   "outputs": [
    {
     "name": "stdout",
     "output_type": "stream",
     "text": [
      "51\n"
     ]
    }
   ],
   "source": [
    "text = \"Today it's nice weather. Is it not nice today :-) ?\"\n",
    "print (len(text))"
   ]
  },
  {
   "cell_type": "markdown",
   "metadata": {},
   "source": [
    "2. Represent this text as a list of tokens."
   ]
  },
  {
   "cell_type": "code",
   "execution_count": 72,
   "metadata": {},
   "outputs": [],
   "source": [
    "tokens = text.split()"
   ]
  },
  {
   "cell_type": "markdown",
   "metadata": {},
   "source": [
    "3. Concatenate the fifth to eighth element with the last five elements"
   ]
  },
  {
   "cell_type": "code",
   "execution_count": 73,
   "metadata": {},
   "outputs": [
    {
     "name": "stdout",
     "output_type": "stream",
     "text": [
      "y it:-) ?\n"
     ]
    }
   ],
   "source": [
    "print (text[4 : 8] + text[len(text)-5 : len(text)])"
   ]
  },
  {
   "cell_type": "markdown",
   "metadata": {},
   "source": [
    "How many times does the letter \"i\" appear in the text? How much is this as a percentage of the total number of\n",
    "letters in this text?"
   ]
  },
  {
   "cell_type": "code",
   "execution_count": 74,
   "metadata": {},
   "outputs": [
    {
     "name": "stdout",
     "output_type": "stream",
     "text": [
      "4\n",
      "7.8431372549019605 %\n",
      "7 %\n"
     ]
    }
   ],
   "source": [
    "i_counter = 0\n",
    "for letter in text:\n",
    "    if letter == 'i':\n",
    "        i_counter = i_counter + 1\n",
    "print (i_counter)\n",
    "print ((i_counter * 100.0 / len(text)), '%') # as real number\n",
    "print ((i_counter * 100 // len(text)), '%') # as integer"
   ]
  },
  {
   "cell_type": "markdown",
   "metadata": {},
   "source": [
    "<div class=\"task_description\">\n",
    "    <i class=\"task\">Task II.4:</i><br>\n",
    "Given a list of elements (defined below).\n",
    "Print out the longest element of this list and it’s length.\n",
    "</div>"
   ]
  },
  {
   "cell_type": "code",
   "execution_count": 76,
   "metadata": {},
   "outputs": [
    {
     "name": "stdout",
     "output_type": "stream",
     "text": [
      "the longest element is: weather\n",
      "the length of weather is 7\n"
     ]
    }
   ],
   "source": [
    "tokens = \"I like the weather in autumn, how it's cold and crips and sunny and fresh.\".split()\n",
    "\n",
    "max_length = 0\n",
    "longest_element = ''\n",
    "for item in tokens:\n",
    "    if len(item) > max_length:\n",
    "        max_length = len(item)\n",
    "        longest_element = item\n",
    "print('the longest element is:', longest_element)\n",
    "print('the length of', longest_element, 'is', max_length)"
   ]
  },
  {
   "cell_type": "markdown",
   "metadata": {},
   "source": [
    "### Functions"
   ]
  },
  {
   "cell_type": "markdown",
   "metadata": {},
   "source": [
    "As you already know, Python gives you many built-in functions like ```print()```, ```len()``` etc. but you can also create your own functions. These functions are called user-defined functions.\n",
    "\n",
    "Functions are little self-contained programs that perform a specific task, which you can incorporate into your own, larger programs. After you have created a function, you can use it at any time, in any place. This saves time and without repetitions of code your programm will be more readable for other people.\n",
    "\n",
    "We start with the keyword ```def``` which is followed by the name of the function and the indicator for the function’s arguments. We list the arguments giving them the names that will be used in the definition of the function. These names have nothing to do with any name that may appear outside the function definition. The line ends with a colon and what follows, the definition of the function, is indented.\n",
    "This indented block carries the actual working of the function.\n",
    "\n",
    "By using the keyword ```return``` – which can only be used in a function –  the calculated value is returned."
   ]
  },
  {
   "cell_type": "markdown",
   "metadata": {},
   "source": [
    "Below you can see a function which, given a list, prints out the total length of elements in the list."
   ]
  },
  {
   "cell_type": "code",
   "execution_count": 22,
   "metadata": {},
   "outputs": [
    {
     "data": {
      "text/plain": [
       "7"
      ]
     },
     "execution_count": 22,
     "metadata": {},
     "output_type": "execute_result"
    }
   ],
   "source": [
    "def total_length(list):\n",
    "    sum = 0\n",
    "    for element in list:\n",
    "        sum = sum + len(element)\n",
    "    return sum\n",
    "\n",
    "total_length(['123', 'xyz', 'a'])"
   ]
  },
  {
   "cell_type": "markdown",
   "metadata": {},
   "source": [
    "One more example: This function finds the length of the longest element in a list."
   ]
  },
  {
   "cell_type": "code",
   "execution_count": 4,
   "metadata": {},
   "outputs": [
    {
     "name": "stdout",
     "output_type": "stream",
     "text": [
      "GKI\n",
      "Introduction\n"
     ]
    },
    {
     "data": {
      "text/plain": [
       "12"
      ]
     },
     "execution_count": 4,
     "metadata": {},
     "output_type": "execute_result"
    }
   ],
   "source": [
    "def longest_element(list):\n",
    "    longest = len(list[0]) # initializes the length of the longest element as the length of the first element\n",
    "    for element in list[1:]:\n",
    "        if len(element) > longest:\n",
    "            longest = len(element)\n",
    "    return longest\n",
    "\n",
    "longest_element([\"Python\",\"GKI\",\"Introduction\"])"
   ]
  },
  {
   "cell_type": "markdown",
   "metadata": {},
   "source": [
    "### Import\n",
    "Suppose we have written a really useful function that we want to use in many different scripts.\n",
    "We can, of course, just copy the function’s definition from one script to another. However, if we change the function definition in one script we have to repeat the edit in all our scripts.\n",
    "What we want is a mechanism to use a single definition in multiple scripts. This is called “importing the function”.\n",
    "The import of only one function can cause problems, so it is better to import a module with this function. A module is a file consisting of Python code. It can define functions, variables and classes."
   ]
  },
  {
   "cell_type": "markdown",
   "metadata": {},
   "source": [
    "#### The import statement:\n",
    "You can use any Python source file as a module by executing an import statement in some other Python source file. 'import' has the following syntax:\n",
    "```py\n",
    "import module1[, module2[,... moduleN]\n",
    "```"
   ]
  },
  {
   "cell_type": "markdown",
   "metadata": {},
   "source": [
    "#### The from...import statement\n",
    "Python’s 'from...import' statement lets you import specific attributes from a module into the current namespace:\n",
    "```py\n",
    "from modname import name1[, name2[, ... nameN]]\n",
    "```"
   ]
  },
  {
   "cell_type": "markdown",
   "metadata": {},
   "source": [
    "#### The from...import * statement: \n",
    "It is also possible to import all names from a module into the current namespace by using the following import statement:\n",
    "```py\n",
    "from modname import *\n",
    "```"
   ]
  },
  {
   "cell_type": "markdown",
   "metadata": {},
   "source": [
    "<div class=\"task_description\">\n",
    "    <i class=\"task\">Task III.1:</i>\n",
    "Given two integer numbers b and c find the minimum of these two numbers and print the name of the minimum. In case b equals c print ’b and c are equal’. Write a function to solve this task: You can test your program with following data:\n",
    "\n",
    "   1. b = 6, c = 9\n",
    "   2. b = 4, c = 4\n",
    "   3. b= 23, c = 2\n",
    "</div>"
   ]
  },
  {
   "cell_type": "code",
   "execution_count": 9,
   "metadata": {},
   "outputs": [
    {
     "name": "stdout",
     "output_type": "stream",
     "text": [
      "6 is the minimum\n",
      "4 and 4 are equal\n",
      "2 is the minimum\n"
     ]
    }
   ],
   "source": [
    "def min(b,c):\n",
    "    if b < c:\n",
    "        print (b, 'is the minimum')\n",
    "    elif b == c:\n",
    "        print (b, 'and', c, 'are equal')\n",
    "    else:\n",
    "        print (c, 'is the minimum')\n",
    "\n",
    "min(6, 9) # 1.\n",
    "min(4, 4) # 2.\n",
    "min(23, 2) # 3."
   ]
  },
  {
   "cell_type": "markdown",
   "metadata": {},
   "source": [
    "<div class=\"task_description\">\n",
    "    <i class=\"task\">Task III.2:</i><br>\n",
    "Given is a list print out the total length of the list’s elements.\n",
    "For example: total_length([’123’, ’xyz’, ’a’]) returns 7.\n",
    "</div>"
   ]
  },
  {
   "cell_type": "code",
   "execution_count": 25,
   "metadata": {},
   "outputs": [
    {
     "name": "stdout",
     "output_type": "stream",
     "text": [
      "7\n"
     ]
    }
   ],
   "source": [
    "def total_length(list):\n",
    "    sum = 0\n",
    "    for element in list:\n",
    "        sum = sum + len(element)\n",
    "    return sum\n",
    "print (total_length([\"123\",\"xyz\",\"a\"]))"
   ]
  },
  {
   "cell_type": "markdown",
   "metadata": {},
   "source": [
    "<div class=\"task_description\">\n",
    "    <i class=\"task\">Task III.3:</i><br>\n",
    "</div>\n",
    "\n",
    "Given is a list with integer and real numbers. Define a function that returns a list with only positive\n",
    "numbers."
   ]
  },
  {
   "cell_type": "code",
   "execution_count": 26,
   "metadata": {},
   "outputs": [
    {
     "name": "stdout",
     "output_type": "stream",
     "text": [
      "[3, 2.4]\n"
     ]
    }
   ],
   "source": [
    "def positive(a_list):\n",
    "    answer = []\n",
    "    for a in a_list:\n",
    "        if a > 0:\n",
    "            answer.append(a)\n",
    "    return answer\n",
    "print (positive([3,-3,2.4,-0.1]))"
   ]
  },
  {
   "cell_type": "markdown",
   "metadata": {},
   "source": [
    "Define a function that returns how many times the letter \"s\" appears in the text (don’t use any built-in functions). How much is this as a percentage of the total number of letters in this text (print it out)?"
   ]
  },
  {
   "cell_type": "code",
   "execution_count": 27,
   "metadata": {},
   "outputs": [
    {
     "name": "stdout",
     "output_type": "stream",
     "text": [
      "The s's make up 15.789473684210526 % of the text\n",
      "3\n"
     ]
    }
   ],
   "source": [
    "def s_occur(text):\n",
    "    s_counter = 0\n",
    "    for letter in text:\n",
    "        if letter == 's':\n",
    "            s_counter = s_counter + 1\n",
    "    print (\"The s's make up\", (s_counter * 100 / len(text)), '%',\"of the text\")\n",
    "    return s_counter\n",
    "print (s_occur(\"This is a test text\"))"
   ]
  },
  {
   "cell_type": "markdown",
   "metadata": {},
   "source": [
    "<div class=\"task_description\">\n",
    "    <i class=\"task\">Task III.4:</i><br>\n",
    "Solve the tasks below:\n",
    "</div>\n"
   ]
  },
  {
   "cell_type": "markdown",
   "metadata": {},
   "source": [
    "1. Define a function that returns the length of the longest word of text. (Hint: e.g. with a for loop you can iterate over the words of the text.)"
   ]
  },
  {
   "cell_type": "code",
   "execution_count": 28,
   "metadata": {},
   "outputs": [
    {
     "name": "stdout",
     "output_type": "stream",
     "text": [
      "4\n"
     ]
    }
   ],
   "source": [
    "def max_length(text):\n",
    "    max = 0\n",
    "    for item in text.split():\n",
    "        if len(item) > max:\n",
    "            max = len(item)\n",
    "    return max\n",
    "print(max_length(\"This is a test text\"))"
   ]
  },
  {
   "cell_type": "markdown",
   "metadata": {},
   "source": [
    "2. Define a function that prints \"Yes\" when the text has more than 20,000 tokens and the length of the longest word is at least 10 characters. Otherwise return \"No\". (Hint: You can use the function from the previous task.)"
   ]
  },
  {
   "cell_type": "code",
   "execution_count": 29,
   "metadata": {},
   "outputs": [
    {
     "name": "stdout",
     "output_type": "stream",
     "text": [
      "No\n",
      "None\n"
     ]
    }
   ],
   "source": [
    "def yes_or_no(text):\n",
    "    if len(text) > 20000 and max_length(text) >= 10:\n",
    "        print (\"Yes\")\n",
    "    else:\n",
    "        print (\"No\")\n",
    "print(yes_or_no(\"This is a test text\"))"
   ]
  },
  {
   "cell_type": "markdown",
   "metadata": {},
   "source": [
    "3. Define a function that prints out all tokens of a text. Use a ```for``` loop."
   ]
  },
  {
   "cell_type": "code",
   "execution_count": 35,
   "metadata": {
    "scrolled": true
   },
   "outputs": [
    {
     "name": "stdout",
     "output_type": "stream",
     "text": [
      "This\n",
      "is\n",
      "a\n",
      "test\n",
      "text\n"
     ]
    }
   ],
   "source": [
    "def print_out(text):\n",
    "    for item in text.split():\n",
    "        print(item)\n",
    "        \n",
    "print_out(\"This is a test text\")"
   ]
  },
  {
   "cell_type": "code",
   "execution_count": 77,
   "metadata": {},
   "outputs": [
    {
     "name": "stdout",
     "output_type": "stream",
     "text": [
      "weather has length 7\n"
     ]
    }
   ],
   "source": [
    "# alternative way of doing the same\n",
    "max_length, longest_element = max([(len(x),x) for x in tokens])\n",
    "print(longest_element + \" has length \" + str(max_length))"
   ]
  }
 ],
 "metadata": {
  "kernelspec": {
   "display_name": "Python 3",
   "language": "python",
   "name": "python3"
  },
  "language_info": {
   "codemirror_mode": {
    "name": "ipython",
    "version": 3
   },
   "file_extension": ".py",
   "mimetype": "text/x-python",
   "name": "python",
   "nbconvert_exporter": "python",
   "pygments_lexer": "ipython3",
   "version": "3.9.4"
  },
  "varInspector": {
   "cols": {
    "lenName": 16,
    "lenType": 16,
    "lenVar": 40
   },
   "kernels_config": {
    "python": {
     "delete_cmd_postfix": "",
     "delete_cmd_prefix": "del ",
     "library": "var_list.py",
     "varRefreshCmd": "print(var_dic_list())"
    },
    "r": {
     "delete_cmd_postfix": ") ",
     "delete_cmd_prefix": "rm(",
     "library": "var_list.r",
     "varRefreshCmd": "cat(var_dic_list()) "
    }
   },
   "types_to_exclude": [
    "module",
    "function",
    "builtin_function_or_method",
    "instance",
    "_Feature"
   ],
   "window_display": false
  }
 },
 "nbformat": 4,
 "nbformat_minor": 2
}
