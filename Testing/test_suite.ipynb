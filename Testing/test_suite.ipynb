{
 "cells": [
  {
   "cell_type": "code",
   "execution_count": 69,
   "id": "e0f1ab0c",
   "metadata": {
    "cell_id": "52b40fa002214521a8c0763694c79799",
    "tags": [
     "hide-cell"
    ]
   },
   "outputs": [
    {
     "ename": "NameError",
     "evalue": "name 'error' is not defined",
     "output_type": "error",
     "traceback": [
      "\u001b[1;31m---------------------------------------------------------------------------\u001b[0m",
      "\u001b[1;31mNameError\u001b[0m                                 Traceback (most recent call last)",
      "\u001b[1;32m<ipython-input-69-627fe7f41e55>\u001b[0m in \u001b[0;36m<module>\u001b[1;34m\u001b[0m\n\u001b[0;32m      1\u001b[0m \u001b[1;31m# This cell will be executed by other cells to force the extension into a data transfer\u001b[0m\u001b[1;33m\u001b[0m\u001b[1;33m\u001b[0m\u001b[1;33m\u001b[0m\u001b[0m\n\u001b[1;32m----> 2\u001b[1;33m \u001b[0mprint\u001b[0m\u001b[1;33m(\u001b[0m\u001b[0merror\u001b[0m\u001b[1;33m)\u001b[0m\u001b[1;33m\u001b[0m\u001b[1;33m\u001b[0m\u001b[0m\n\u001b[0m",
      "\u001b[1;31mNameError\u001b[0m: name 'error' is not defined"
     ]
    }
   ],
   "source": [
    "# This cell will be executed by other cells to force the extension into a data transfer\n",
    "print(error)"
   ]
  },
  {
   "cell_type": "code",
   "execution_count": 14,
   "id": "4781a625",
   "metadata": {
    "cell_id": "5e6854e64f1148bea5c14efa5e9749a1"
   },
   "outputs": [],
   "source": [
    "# Execute this cell once to import modules and initialize variables\n",
    "import requests\n",
    "import time\n",
    "from IPython.display import Javascript\n",
    "\n",
    "url = \"http://127.0.0.1:5000/notebooks\"\n",
    "file_id = 0"
   ]
  },
  {
   "cell_type": "code",
   "execution_count": null,
   "id": "9ed82b99",
   "metadata": {},
   "outputs": [],
   "source": [
    "# If this test suite has been used before the metadata has to be purged:\n",
    "\n",
    "# To see if it has been used before check in the toolbar under Edit > Edit Notebook Metadata\n",
    "# If there are entries under \"tracking\" execute this cell and reopen the test suite\n",
    "\n",
    "Javascript(\"Jupyter.notebook.metadata.tracking = undefined\")"
   ]
  },
  {
   "cell_type": "code",
   "execution_count": 65,
   "id": "ff8f5562",
   "metadata": {
    "cell_id": "e9ffbcd3561246b88314478f97b55c97"
   },
   "outputs": [],
   "source": [
    "# Execute this cell once to initialize the functions used in the tests\n",
    "def get_notebook():\n",
    "    response = requests.get(url).json()\n",
    "    notebook = response[-1]\n",
    "    return notebook\n",
    "    \n",
    "def check_click():\n",
    "    notebook = get_notebook()\n",
    "    return(notebook['_data']['click'] >= 5)\n",
    "    \n",
    "def check_cell_create():\n",
    "    notebook = get_notebook()\n",
    "    return(notebook['_data']['cell_create'] == 3)\n",
    "    \n",
    "def check_cell_delete():\n",
    "    notebook = get_notebook()\n",
    "    return(notebook['_data']['cell_delete'] == 3)\n",
    "    \n",
    "def check_copy():\n",
    "    notebook = get_notebook()\n",
    "    return(notebook['_data']['copy'] == 3)\n",
    "    \n",
    "def check_paste():\n",
    "    notebook = get_notebook()\n",
    "    return(notebook['_data']['paste'] == 4)\n",
    "    \n",
    "def check_filename():\n",
    "    notebook = get_notebook()\n",
    "    return(notebook['_data']['filename'] == \"test_suite_new.ipynb\")\n",
    "    \n",
    "def check_execute():\n",
    "    notebook = get_notebook()\n",
    "    return(notebook['_data']['execute'] >= 5)\n",
    "    \n",
    "def check_markdown_renders():\n",
    "    notebook = get_notebook()\n",
    "    return(notebook['_data']['markdown_renders'] >= 1)\n",
    "\n",
    "def check_error():\n",
    "    notebook = get_notebook()\n",
    "    return(notebook['_data']['error'] >= 1)\n",
    "    return False\n",
    "\n",
    "def check_execution_ids():\n",
    "    notebook = get_notebook()\n",
    "    last_ids = notebook['_data']['execute_ids'][-4:-2]\n",
    "    print(last_ids)\n",
    "    return(last_ids == ['ab0dfcc177084285b44b39827a0309fb', ['e00ca31de3cd410c8e31b5fa4890a351', 'error']])\n",
    "\n",
    "def check_keydown():\n",
    "    notebook = get_notebook()\n",
    "    return(notebook['_data']['keydown'] >= 9)\n",
    "    \n",
    "def check_mousemove():\n",
    "    notebook = get_notebook()\n",
    "    return(notebook['_data']['mousemove'] >= 10)\n",
    "\n",
    "def check_scroll():\n",
    "    notebook = get_notebook()\n",
    "    return(notebook['_data']['scroll'] >= 5)\n",
    "    \n",
    "def check_total_time(argument):\n",
    "    notebook = get_notebook()\n",
    "    if (argument == \"start\"):\n",
    "        time.sleep(5)\n",
    "        print(\"Execute the two cells below now.\")\n",
    "        return notebook['_data']['total_time']\n",
    "    else:\n",
    "        return (5000  <= (notebook['_data']['total_time'] - argument) <= 15000)\n",
    "        \n",
    "    \n",
    "def check_timestamp():\n",
    "    notebook = get_notebook()\n",
    "    timestamp = round(time.time() * 1000)\n",
    "    return (notebook['_data']['timestamp'] in range(timestamp-60000,timestamp+60000))\n",
    "    \n",
    "def check_file_id():\n",
    "    notebook = get_notebook()\n",
    "    return (notebook['_data']['file_id'] == str(file_id))\n",
    "\n",
    "def check_button():\n",
    "    response = requests.get(url).json()\n",
    "    first_notebook = response[-2]\n",
    "    second_notebook = response[-1]\n",
    "    return (first_notebook['_data']['cell_create'] == second_notebook['_data']['cell_create']\n",
    "            and first_notebook['_data']['cell_delete'] == second_notebook['_data']['cell_delete'])"
   ]
  },
  {
   "cell_type": "markdown",
   "id": "54ba26ee",
   "metadata": {},
   "source": [
    "# Test suite for Action-Tracking Extension\n",
    "\n",
    "Each test (T1-T16) unless stated otherwise requires the user to give a small input, then execute the JavaScript cell to force the Extension into a data transfer and afterwards execute the cell with the test function(s). If this cell returns True the test was successful."
   ]
  },
  {
   "cell_type": "markdown",
   "id": "8f1e71e8",
   "metadata": {},
   "source": [
    "## T1: Click on the space below 5 times\n",
    "<pre>\n",
    "_________________________________\n",
    "|                               |\n",
    "|                               |\n",
    "|                               |\n",
    "|                               |\n",
    "|                               |\n",
    "|                               |\n",
    "|                               |\n",
    "|                               |\n",
    "_________________________________\n",
    "</pre>"
   ]
  },
  {
   "cell_type": "code",
   "execution_count": 175,
   "id": "869e2e7c",
   "metadata": {
    "cell_id": "be667cf8b0b243ff89524affe25f8c1e"
   },
   "outputs": [
    {
     "data": {
      "application/javascript": [
       "Jupyter.notebook.execute_cells([0])"
      ],
      "text/plain": [
       "<IPython.core.display.Javascript object>"
      ]
     },
     "execution_count": 175,
     "metadata": {},
     "output_type": "execute_result"
    }
   ],
   "source": [
    "# execute this cell and the next cell\n",
    "Javascript(\"Jupyter.notebook.execute_cells([0])\")"
   ]
  },
  {
   "cell_type": "code",
   "execution_count": 177,
   "id": "60c52610",
   "metadata": {
    "cell_id": "55c2c8e8dd9947dc8b3da762ff95f8f1"
   },
   "outputs": [
    {
     "name": "stdout",
     "output_type": "stream",
     "text": [
      "True\n"
     ]
    }
   ],
   "source": [
    "print(check_click())"
   ]
  },
  {
   "cell_type": "markdown",
   "id": "4084b46a",
   "metadata": {},
   "source": [
    "## T2: Create 3 cells below this cell"
   ]
  },
  {
   "cell_type": "code",
   "execution_count": null,
   "id": "e4a2794a",
   "metadata": {},
   "outputs": [],
   "source": [
    "# execute this cell and the next cell\n",
    "Javascript(\"Jupyter.notebook.execute_cells([0])\")"
   ]
  },
  {
   "cell_type": "code",
   "execution_count": null,
   "id": "a3308a0e",
   "metadata": {},
   "outputs": [],
   "source": [
    "print(check_cell_create())"
   ]
  },
  {
   "cell_type": "markdown",
   "id": "5bab6606",
   "metadata": {},
   "source": [
    "## T3: Delete the 3 cells you created above"
   ]
  },
  {
   "cell_type": "code",
   "execution_count": null,
   "id": "9e49bb6b",
   "metadata": {
    "cell_id": "e606e851e97c48478f1e13d27d4875c4"
   },
   "outputs": [],
   "source": [
    "# execute this cell and the next cell\n",
    "Javascript(\"Jupyter.notebook.execute_cells([0])\")"
   ]
  },
  {
   "cell_type": "code",
   "execution_count": null,
   "id": "ec39fbea",
   "metadata": {},
   "outputs": [],
   "source": [
    "print(check_cell_delete())"
   ]
  },
  {
   "cell_type": "markdown",
   "id": "1251e8c1",
   "metadata": {},
   "source": [
    "## T4: Copy each of the lines in the cell below seperately"
   ]
  },
  {
   "cell_type": "markdown",
   "id": "3d14cdb2",
   "metadata": {},
   "source": [
    "First Copy this!<br>\n",
    "Now Copy this!<br>\n",
    "Finally copy this!"
   ]
  },
  {
   "cell_type": "code",
   "execution_count": null,
   "id": "84076aeb",
   "metadata": {
    "cell_id": "e606e851e97c48478f1e13d27d4875c4"
   },
   "outputs": [],
   "source": [
    "# execute this cell and the next cell\n",
    "Javascript(\"Jupyter.notebook.execute_cells([0])\")"
   ]
  },
  {
   "cell_type": "code",
   "execution_count": null,
   "id": "e5643303",
   "metadata": {},
   "outputs": [],
   "source": [
    "print(check_copy())"
   ]
  },
  {
   "cell_type": "markdown",
   "id": "0727aedf",
   "metadata": {},
   "source": [
    "## T5: Paste the last line from the test above 3 times into the cell below"
   ]
  },
  {
   "cell_type": "code",
   "execution_count": null,
   "id": "c191aaf2",
   "metadata": {},
   "outputs": [],
   "source": []
  },
  {
   "cell_type": "code",
   "execution_count": null,
   "id": "103f616c",
   "metadata": {
    "cell_id": "e606e851e97c48478f1e13d27d4875c4"
   },
   "outputs": [],
   "source": [
    "# execute this cell and the next cell\n",
    "Javascript(\"Jupyter.notebook.execute_cells([0])\")"
   ]
  },
  {
   "cell_type": "code",
   "execution_count": null,
   "id": "cc587b86",
   "metadata": {},
   "outputs": [],
   "source": [
    "print(check_paste())"
   ]
  },
  {
   "cell_type": "markdown",
   "id": "faab6bd3",
   "metadata": {},
   "source": [
    "## T6: Change the filename (File > Rename...) to \"test_suite_new\""
   ]
  },
  {
   "cell_type": "code",
   "execution_count": null,
   "id": "5f0e6b65",
   "metadata": {
    "cell_id": "e606e851e97c48478f1e13d27d4875c4"
   },
   "outputs": [],
   "source": [
    "# execute this cell and the next cell\n",
    "Javascript(\"Jupyter.notebook.execute_cells([0])\")"
   ]
  },
  {
   "cell_type": "code",
   "execution_count": null,
   "id": "04ee537d",
   "metadata": {},
   "outputs": [],
   "source": [
    "print(check_filename())"
   ]
  },
  {
   "cell_type": "markdown",
   "id": "14ecbbbe",
   "metadata": {},
   "source": [
    "## T7-T10: Execute each of the three cells below"
   ]
  },
  {
   "cell_type": "code",
   "execution_count": 52,
   "id": "76d6c256",
   "metadata": {
    "cell_id": "ab0dfcc177084285b44b39827a0309fb"
   },
   "outputs": [
    {
     "name": "stdout",
     "output_type": "stream",
     "text": [
      "Execute me.\n"
     ]
    }
   ],
   "source": [
    "print(\"Execute me.\")"
   ]
  },
  {
   "cell_type": "code",
   "execution_count": 53,
   "id": "dfe5e9a4",
   "metadata": {
    "cell_id": "e00ca31de3cd410c8e31b5fa4890a351"
   },
   "outputs": [
    {
     "ename": "NameError",
     "evalue": "name 'ExecuteThisError' is not defined",
     "output_type": "error",
     "traceback": [
      "\u001b[1;31m---------------------------------------------------------------------------\u001b[0m",
      "\u001b[1;31mNameError\u001b[0m                                 Traceback (most recent call last)",
      "\u001b[1;32m<ipython-input-53-5e59caeacc35>\u001b[0m in \u001b[0;36m<module>\u001b[1;34m\u001b[0m\n\u001b[1;32m----> 1\u001b[1;33m \u001b[0mprint\u001b[0m\u001b[1;33m(\u001b[0m\u001b[0mExecuteThisError\u001b[0m\u001b[1;33m)\u001b[0m\u001b[1;33m\u001b[0m\u001b[1;33m\u001b[0m\u001b[0m\n\u001b[0m",
      "\u001b[1;31mNameError\u001b[0m: name 'ExecuteThisError' is not defined"
     ]
    }
   ],
   "source": [
    "print(ExecuteThisError)"
   ]
  },
  {
   "cell_type": "markdown",
   "id": "b7426785",
   "metadata": {},
   "source": [
    "Don't forget to execute me!"
   ]
  },
  {
   "cell_type": "code",
   "execution_count": 54,
   "id": "bc474f92",
   "metadata": {
    "cell_id": "22976ccbb6bc422986e58e868f2f92bf"
   },
   "outputs": [
    {
     "data": {
      "application/javascript": [
       "Jupyter.notebook.execute_cells([0])"
      ],
      "text/plain": [
       "<IPython.core.display.Javascript object>"
      ]
     },
     "execution_count": 54,
     "metadata": {},
     "output_type": "execute_result"
    }
   ],
   "source": [
    "# execute this cell and the next cell\n",
    "Javascript(\"Jupyter.notebook.execute_cells([0])\")"
   ]
  },
  {
   "cell_type": "code",
   "execution_count": 56,
   "id": "7c136f06",
   "metadata": {
    "cell_id": "50b9e18956fc452284b51ba783251a63",
    "scrolled": true
   },
   "outputs": [
    {
     "name": "stdout",
     "output_type": "stream",
     "text": [
      "True\n",
      "True\n",
      "True\n",
      "['ab0dfcc177084285b44b39827a0309fb', ['e00ca31de3cd410c8e31b5fa4890a351', 'error']]\n",
      "True\n"
     ]
    }
   ],
   "source": [
    "# execute this cell and the next cell\n",
    "print(check_execute())\n",
    "print(check_markdown_renders())\n",
    "print(check_error())\n",
    "print(check_execution_ids())"
   ]
  },
  {
   "cell_type": "markdown",
   "id": "41e0244d",
   "metadata": {},
   "source": [
    "## T11: Press any key on your keyboard 9 times"
   ]
  },
  {
   "cell_type": "code",
   "execution_count": null,
   "id": "9c014681",
   "metadata": {
    "cell_id": "e606e851e97c48478f1e13d27d4875c4"
   },
   "outputs": [],
   "source": [
    "# execute this cell and the next cell\n",
    "Javascript(\"Jupyter.notebook.execute_cells([0])\")"
   ]
  },
  {
   "cell_type": "code",
   "execution_count": null,
   "id": "51b65b7c",
   "metadata": {},
   "outputs": [],
   "source": [
    "print(check_keydown())"
   ]
  },
  {
   "cell_type": "markdown",
   "id": "b10fe4b7",
   "metadata": {},
   "source": [
    "## T12: Move the mouse a little bit"
   ]
  },
  {
   "cell_type": "code",
   "execution_count": null,
   "id": "0b58e522",
   "metadata": {
    "cell_id": "e606e851e97c48478f1e13d27d4875c4"
   },
   "outputs": [],
   "source": [
    "# execute this cell and the next cell\n",
    "Javascript(\"Jupyter.notebook.execute_cells([0])\")"
   ]
  },
  {
   "cell_type": "code",
   "execution_count": null,
   "id": "207c7410",
   "metadata": {},
   "outputs": [],
   "source": [
    "print(check_mousemove())"
   ]
  },
  {
   "cell_type": "markdown",
   "id": "4ac1c822",
   "metadata": {},
   "source": [
    "## T13: Scroll up and down with your mouse wheel"
   ]
  },
  {
   "cell_type": "code",
   "execution_count": null,
   "id": "f87b8c25",
   "metadata": {
    "cell_id": "e606e851e97c48478f1e13d27d4875c4"
   },
   "outputs": [],
   "source": [
    "# execute this cell and the next cell\n",
    "Javascript(\"Jupyter.notebook.execute_cells([0])\")"
   ]
  },
  {
   "cell_type": "code",
   "execution_count": null,
   "id": "06d68406",
   "metadata": {},
   "outputs": [],
   "source": [
    "print(check_scroll())"
   ]
  },
  {
   "cell_type": "markdown",
   "id": "b0bc721f",
   "metadata": {
    "cell_id": "0ae7ce9d5ad94990bd7b0b87e6f52dc7"
   },
   "source": [
    "## T14: Execute the first two cells and then wait 5 seconds until the cell finishes and tells you to execute the remaining 2 cells"
   ]
  },
  {
   "cell_type": "code",
   "execution_count": 204,
   "id": "2cabb32f",
   "metadata": {
    "cell_id": "196202a1f0a148ec844d746b48e70cac"
   },
   "outputs": [
    {
     "data": {
      "application/javascript": [
       "Jupyter.notebook.execute_cells([0])"
      ],
      "text/plain": [
       "<IPython.core.display.Javascript object>"
      ]
     },
     "execution_count": 204,
     "metadata": {},
     "output_type": "execute_result"
    }
   ],
   "source": [
    "# execute this cell and the next cell\n",
    "Javascript(\"Jupyter.notebook.execute_cells([0])\")"
   ]
  },
  {
   "cell_type": "code",
   "execution_count": 206,
   "id": "4a453aa3",
   "metadata": {
    "cell_id": "b69cdf5a91b3405185a67c7800f6b0f0"
   },
   "outputs": [
    {
     "name": "stdout",
     "output_type": "stream",
     "text": [
      "Execute the cells below now.\n"
     ]
    }
   ],
   "source": [
    "start = check_total_time(\"start\")"
   ]
  },
  {
   "cell_type": "code",
   "execution_count": 207,
   "id": "315a1829",
   "metadata": {
    "cell_id": "e771f5edc3c04658b44f20e13d950bbb"
   },
   "outputs": [
    {
     "data": {
      "application/javascript": [
       "Jupyter.notebook.execute_cells([0])"
      ],
      "text/plain": [
       "<IPython.core.display.Javascript object>"
      ]
     },
     "execution_count": 207,
     "metadata": {},
     "output_type": "execute_result"
    }
   ],
   "source": [
    "# when the cell above says so execute this cell and the next cell\n",
    "Javascript(\"Jupyter.notebook.execute_cells([0])\")"
   ]
  },
  {
   "cell_type": "code",
   "execution_count": 209,
   "id": "df07713a",
   "metadata": {
    "cell_id": "2f61880722de4ba9a2a468153f636fe9"
   },
   "outputs": [
    {
     "name": "stdout",
     "output_type": "stream",
     "text": [
      "True\n"
     ]
    }
   ],
   "source": [
    "print(check_total_time(start))"
   ]
  },
  {
   "cell_type": "markdown",
   "id": "093c7979",
   "metadata": {},
   "source": [
    "## T15: This checks the timestamp (no input necessary)"
   ]
  },
  {
   "cell_type": "code",
   "execution_count": 210,
   "id": "0fbe7fe1",
   "metadata": {
    "cell_id": "67eac34cf93243c09ccfa57a515ab99d"
   },
   "outputs": [
    {
     "data": {
      "application/javascript": [
       "Jupyter.notebook.execute_cells([0])"
      ],
      "text/plain": [
       "<IPython.core.display.Javascript object>"
      ]
     },
     "execution_count": 210,
     "metadata": {},
     "output_type": "execute_result"
    }
   ],
   "source": [
    "# execute this cell and the next cell\n",
    "Javascript(\"Jupyter.notebook.execute_cells([0])\")"
   ]
  },
  {
   "cell_type": "code",
   "execution_count": 212,
   "id": "19e34d0d",
   "metadata": {
    "cell_id": "f0f291c4693e4de1847e21133b77aa55"
   },
   "outputs": [
    {
     "name": "stdout",
     "output_type": "stream",
     "text": [
      "True\n"
     ]
    }
   ],
   "source": [
    "print(check_timestamp())"
   ]
  },
  {
   "cell_type": "markdown",
   "id": "e94bb504",
   "metadata": {},
   "source": [
    "## T16: This checks the file id (no input necessary)"
   ]
  },
  {
   "cell_type": "code",
   "execution_count": null,
   "id": "26c75a4f",
   "metadata": {
    "cell_id": "c133408feaeb408dbc5492ce6798efde"
   },
   "outputs": [],
   "source": [
    "# execute this cell and the next cell\n",
    "\n",
    "%%js\n",
    "var command = \"file_id = \" + Jupyter.notebook.metadata.tracking.file_id;\n",
    "IPython.notebook.kernel.execute(command);\n",
    "Jupyter.notebook.execute_cells([0]);"
   ]
  },
  {
   "cell_type": "code",
   "execution_count": null,
   "id": "bb12eb55",
   "metadata": {
    "cell_id": "cdf584f78b824baa83ef1a5c1991c991"
   },
   "outputs": [],
   "source": [
    "print(check_file_id())"
   ]
  },
  {
   "cell_type": "markdown",
   "id": "3774bcec",
   "metadata": {},
   "source": [
    "## T17: Execute the first cell then disable Tracking via the Toolbar button. Then create and delete a cell. No reenable Tracking and execute the first cell again and the last cell"
   ]
  },
  {
   "cell_type": "code",
   "execution_count": 68,
   "id": "34eb022e",
   "metadata": {
    "cell_id": "80b9768df24d4734847abcd4269fd220"
   },
   "outputs": [
    {
     "data": {
      "application/javascript": [
       "Jupyter.notebook.execute_cells([0])"
      ],
      "text/plain": [
       "<IPython.core.display.Javascript object>"
      ]
     },
     "execution_count": 68,
     "metadata": {},
     "output_type": "execute_result"
    }
   ],
   "source": [
    "# execute this cell and then disable tracking\n",
    "Javascript(\"Jupyter.notebook.execute_cells([0])\")"
   ]
  },
  {
   "cell_type": "code",
   "execution_count": 70,
   "id": "4cc85f3f",
   "metadata": {
    "cell_id": "1a758deb272d40d3bdab2e265b4aaae7"
   },
   "outputs": [
    {
     "name": "stdout",
     "output_type": "stream",
     "text": [
      "True\n"
     ]
    }
   ],
   "source": [
    "# Execute this cell after executing the above cell again\n",
    "print(check_button())"
   ]
  }
 ],
 "metadata": {
  "celltoolbar": "Edit Metadata",
  "kernelspec": {
   "display_name": "Python 3",
   "language": "python",
   "name": "python3"
  },
  "language_info": {
   "codemirror_mode": {
    "name": "ipython",
    "version": 3
   },
   "file_extension": ".py",
   "mimetype": "text/x-python",
   "name": "python",
   "nbconvert_exporter": "python",
   "pygments_lexer": "ipython3",
   "version": "3.9.4"
  },
  "tracking": {
   "cell_create": 8,
   "cell_delete": 7,
   "click": 451,
   "copy": 33,
   "error": 73,
   "execute": 192,
   "execute_ids": [
    "846d172078604ec98ce4779787f113b2",
    "43a8d465845843c08ae0ae71ffd3e5ed",
    "606f7fe9850d49f39a6004e6c3214f39",
    "43a8d465845843c08ae0ae71ffd3e5ed",
    "606f7fe9850d49f39a6004e6c3214f39",
    "43a8d465845843c08ae0ae71ffd3e5ed",
    "606f7fe9850d49f39a6004e6c3214f39",
    "de3973f1962e45928a8bb076a9352efb",
    "846d172078604ec98ce4779787f113b2",
    "846d172078604ec98ce4779787f113b2",
    "de3973f1962e45928a8bb076a9352efb",
    "3c4ebb09f61b45658e54adec66014fbe",
    "846d172078604ec98ce4779787f113b2",
    "846d172078604ec98ce4779787f113b2",
    "c133408feaeb408dbc5492ce6798efde",
    [
     "f234d27b6f364b4e89850619e48c197a",
     "error"
    ],
    [
     "cdf584f78b824baa83ef1a5c1991c991",
     "error"
    ],
    "cdf584f78b824baa83ef1a5c1991c991",
    "c133408feaeb408dbc5492ce6798efde",
    [
     "f234d27b6f364b4e89850619e48c197a",
     "error"
    ],
    "cdf584f78b824baa83ef1a5c1991c991",
    "3c4ebb09f61b45658e54adec66014fbe",
    "cdf584f78b824baa83ef1a5c1991c991",
    [
     "cdf584f78b824baa83ef1a5c1991c991",
     "error"
    ],
    "c133408feaeb408dbc5492ce6798efde",
    [
     "f234d27b6f364b4e89850619e48c197a",
     "error"
    ],
    "cdf584f78b824baa83ef1a5c1991c991",
    "846d172078604ec98ce4779787f113b2",
    [
     "cdf584f78b824baa83ef1a5c1991c991",
     "error"
    ],
    "c133408feaeb408dbc5492ce6798efde",
    [
     "f234d27b6f364b4e89850619e48c197a",
     "error"
    ],
    "cdf584f78b824baa83ef1a5c1991c991",
    "67eac34cf93243c09ccfa57a515ab99d",
    [
     "f234d27b6f364b4e89850619e48c197a",
     "error"
    ],
    [
     "f0f291c4693e4de1847e21133b77aa55",
     "error"
    ],
    "de3973f1962e45928a8bb076a9352efb",
    "67eac34cf93243c09ccfa57a515ab99d",
    [
     "f234d27b6f364b4e89850619e48c197a",
     "error"
    ],
    [
     "f0f291c4693e4de1847e21133b77aa55",
     "error"
    ],
    "67eac34cf93243c09ccfa57a515ab99d",
    [
     "f234d27b6f364b4e89850619e48c197a",
     "error"
    ],
    "f0f291c4693e4de1847e21133b77aa55",
    "67eac34cf93243c09ccfa57a515ab99d",
    [
     "f234d27b6f364b4e89850619e48c197a",
     "error"
    ],
    "f0f291c4693e4de1847e21133b77aa55",
    "67eac34cf93243c09ccfa57a515ab99d",
    [
     "f234d27b6f364b4e89850619e48c197a",
     "error"
    ],
    "f0f291c4693e4de1847e21133b77aa55",
    "67eac34cf93243c09ccfa57a515ab99d",
    [
     "f234d27b6f364b4e89850619e48c197a",
     "error"
    ],
    "f0f291c4693e4de1847e21133b77aa55",
    "67eac34cf93243c09ccfa57a515ab99d",
    [
     "f234d27b6f364b4e89850619e48c197a",
     "error"
    ],
    "f0f291c4693e4de1847e21133b77aa55",
    "be667cf8b0b243ff89524affe25f8c1e",
    [
     "f234d27b6f364b4e89850619e48c197a",
     "error"
    ],
    "55c2c8e8dd9947dc8b3da762ff95f8f1",
    "196202a1f0a148ec844d746b48e70cac",
    [
     "f234d27b6f364b4e89850619e48c197a",
     "error"
    ],
    "b69cdf5a91b3405185a67c7800f6b0f0",
    "e771f5edc3c04658b44f20e13d950bbb",
    [
     "f234d27b6f364b4e89850619e48c197a",
     "error"
    ],
    [
     "2f61880722de4ba9a2a468153f636fe9",
     "error"
    ],
    "846d172078604ec98ce4779787f113b2",
    "196202a1f0a148ec844d746b48e70cac",
    [
     "f234d27b6f364b4e89850619e48c197a",
     "error"
    ],
    "b69cdf5a91b3405185a67c7800f6b0f0",
    "e771f5edc3c04658b44f20e13d950bbb",
    [
     "f234d27b6f364b4e89850619e48c197a",
     "error"
    ],
    [
     "2f61880722de4ba9a2a468153f636fe9",
     "error"
    ],
    "de3973f1962e45928a8bb076a9352efb",
    "846d172078604ec98ce4779787f113b2",
    "196202a1f0a148ec844d746b48e70cac",
    [
     "f234d27b6f364b4e89850619e48c197a",
     "error"
    ],
    "b69cdf5a91b3405185a67c7800f6b0f0",
    "e771f5edc3c04658b44f20e13d950bbb",
    [
     "f234d27b6f364b4e89850619e48c197a",
     "error"
    ],
    [
     "2f61880722de4ba9a2a468153f636fe9",
     "error"
    ],
    "196202a1f0a148ec844d746b48e70cac",
    [
     "f234d27b6f364b4e89850619e48c197a",
     "error"
    ],
    "b69cdf5a91b3405185a67c7800f6b0f0",
    "e771f5edc3c04658b44f20e13d950bbb",
    [
     "f234d27b6f364b4e89850619e48c197a",
     "error"
    ],
    "2f61880722de4ba9a2a468153f636fe9",
    "67eac34cf93243c09ccfa57a515ab99d",
    [
     "f234d27b6f364b4e89850619e48c197a",
     "error"
    ],
    "f0f291c4693e4de1847e21133b77aa55",
    "f4f83e0e089c484f973582934b8ea4ea",
    [
     "6d04d1e1195d4707ad3ae6689c3ee963",
     "error"
    ],
    "f4f83e0e089c484f973582934b8ea4ea",
    [
     "6d04d1e1195d4707ad3ae6689c3ee963",
     "error"
    ],
    [
     "a4a9aa243a874639ab0437e3eb4f5ba7",
     "error"
    ],
    [
     "af9e55d14814450f8026d101989da4a9",
     "error"
    ],
    [
     "7d946e6c2487449f8db7d3973c472d94",
     "error"
    ],
    "309f033bd98c47858ecb90f55e3f9d75",
    [
     "af9e55d14814450f8026d101989da4a9",
     "error"
    ],
    "972b1295eef04c18a4e18b6bf9e974e3",
    [
     "59d2be2609164aa9aa4b196eea824ea1",
     "error"
    ],
    [
     "1e99a1b1481849b591798a5896433dff",
     "error"
    ],
    "d630d596386943298b7be2c171d93203",
    "8f452f40972348bc803ad9e6da5b396d",
    "972b1295eef04c18a4e18b6bf9e974e3",
    [
     "59d2be2609164aa9aa4b196eea824ea1",
     "error"
    ],
    "1e99a1b1481849b591798a5896433dff",
    [
     "00d621e20437480782f39675d34671a5",
     "error"
    ],
    [
     "c40114e28e674244820861cc8359c402",
     "error"
    ],
    "1e99a1b1481849b591798a5896433dff",
    [
     "00d621e20437480782f39675d34671a5",
     "error"
    ],
    [
     "c40114e28e674244820861cc8359c402",
     "error"
    ],
    "8f452f40972348bc803ad9e6da5b396d",
    "1e99a1b1481849b591798a5896433dff",
    [
     "00d621e20437480782f39675d34671a5",
     "error"
    ],
    "c40114e28e674244820861cc8359c402",
    "8f452f40972348bc803ad9e6da5b396d",
    "972b1295eef04c18a4e18b6bf9e974e3",
    [
     "59d2be2609164aa9aa4b196eea824ea1",
     "error"
    ],
    "1e99a1b1481849b591798a5896433dff",
    [
     "00d621e20437480782f39675d34671a5",
     "error"
    ],
    "c40114e28e674244820861cc8359c402",
    "972b1295eef04c18a4e18b6bf9e974e3",
    [
     "59d2be2609164aa9aa4b196eea824ea1",
     "error"
    ],
    "972b1295eef04c18a4e18b6bf9e974e3",
    "e9ffbcd3561246b88314478f97b55c97",
    "ab0dfcc177084285b44b39827a0309fb",
    [
     "e00ca31de3cd410c8e31b5fa4890a351",
     "error"
    ],
    [
     "22976ccbb6bc422986e58e868f2f92bf",
     "error"
    ],
    "5e6854e64f1148bea5c14efa5e9749a1",
    "e9ffbcd3561246b88314478f97b55c97",
    "ab0dfcc177084285b44b39827a0309fb",
    [
     "e00ca31de3cd410c8e31b5fa4890a351",
     "error"
    ],
    "22976ccbb6bc422986e58e868f2f92bf",
    [
     "52b40fa002214521a8c0763694c79799",
     "error"
    ],
    "50b9e18956fc452284b51ba783251a63",
    "5e6854e64f1148bea5c14efa5e9749a1",
    "e9ffbcd3561246b88314478f97b55c97",
    "5e6854e64f1148bea5c14efa5e9749a1",
    "e9ffbcd3561246b88314478f97b55c97",
    "22976ccbb6bc422986e58e868f2f92bf",
    [
     "52b40fa002214521a8c0763694c79799",
     "error"
    ],
    [
     "50b9e18956fc452284b51ba783251a63",
     "error"
    ],
    "22976ccbb6bc422986e58e868f2f92bf",
    [
     "52b40fa002214521a8c0763694c79799",
     "error"
    ],
    "50b9e18956fc452284b51ba783251a63",
    "ab0dfcc177084285b44b39827a0309fb",
    [
     "e00ca31de3cd410c8e31b5fa4890a351",
     "error"
    ],
    "22976ccbb6bc422986e58e868f2f92bf",
    [
     "52b40fa002214521a8c0763694c79799",
     "error"
    ],
    "50b9e18956fc452284b51ba783251a63",
    "ab0dfcc177084285b44b39827a0309fb",
    "ab0dfcc177084285b44b39827a0309fb",
    "ab0dfcc177084285b44b39827a0309fb",
    "ab0dfcc177084285b44b39827a0309fb",
    "ab0dfcc177084285b44b39827a0309fb",
    [
     "e00ca31de3cd410c8e31b5fa4890a351",
     "error"
    ],
    "22976ccbb6bc422986e58e868f2f92bf",
    [
     "52b40fa002214521a8c0763694c79799",
     "error"
    ],
    [
     "52b40fa002214521a8c0763694c79799",
     "error"
    ],
    [
     "52b40fa002214521a8c0763694c79799",
     "error"
    ],
    "22976ccbb6bc422986e58e868f2f92bf",
    [
     "52b40fa002214521a8c0763694c79799",
     "error"
    ],
    "50b9e18956fc452284b51ba783251a63",
    "ab0dfcc177084285b44b39827a0309fb",
    [
     "e00ca31de3cd410c8e31b5fa4890a351",
     "error"
    ],
    "22976ccbb6bc422986e58e868f2f92bf",
    [
     "52b40fa002214521a8c0763694c79799",
     "error"
    ],
    "50b9e18956fc452284b51ba783251a63",
    "e9ffbcd3561246b88314478f97b55c97",
    "ab0dfcc177084285b44b39827a0309fb",
    [
     "e00ca31de3cd410c8e31b5fa4890a351",
     "error"
    ],
    "22976ccbb6bc422986e58e868f2f92bf",
    [
     "52b40fa002214521a8c0763694c79799",
     "error"
    ],
    "50b9e18956fc452284b51ba783251a63",
    "e9ffbcd3561246b88314478f97b55c97",
    "ab0dfcc177084285b44b39827a0309fb",
    [
     "e00ca31de3cd410c8e31b5fa4890a351",
     "error"
    ],
    "22976ccbb6bc422986e58e868f2f92bf",
    [
     "52b40fa002214521a8c0763694c79799",
     "error"
    ],
    "50b9e18956fc452284b51ba783251a63",
    [
     "e9ffbcd3561246b88314478f97b55c97",
     "error"
    ],
    "80b9768df24d4734847abcd4269fd220",
    [
     "52b40fa002214521a8c0763694c79799",
     "error"
    ],
    "80b9768df24d4734847abcd4269fd220",
    [
     "52b40fa002214521a8c0763694c79799",
     "error"
    ],
    "80b9768df24d4734847abcd4269fd220",
    [
     "52b40fa002214521a8c0763694c79799",
     "error"
    ],
    [
     "1a758deb272d40d3bdab2e265b4aaae7",
     "error"
    ],
    "e9ffbcd3561246b88314478f97b55c97",
    "80b9768df24d4734847abcd4269fd220",
    [
     "52b40fa002214521a8c0763694c79799",
     "error"
    ],
    "80b9768df24d4734847abcd4269fd220",
    [
     "52b40fa002214521a8c0763694c79799",
     "error"
    ],
    "1a758deb272d40d3bdab2e265b4aaae7"
   ],
   "file_id": "6233145767",
   "filename": "test_suite.ipynb",
   "keydown": 3019,
   "markdown_renders": 35,
   "mousemove": 51229,
   "paste": 33,
   "scroll": 1175,
   "timestamp": 1654861121514,
   "total_time": 4384000
  }
 },
 "nbformat": 4,
 "nbformat_minor": 5
}
